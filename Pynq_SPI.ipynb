{
 "cells": [
  {
   "cell_type": "code",
   "execution_count": 1,
   "metadata": {},
   "outputs": [
    {
     "data": {
      "application/javascript": [
       "\n",
       "try {\n",
       "require(['notebook/js/codecell'], function(codecell) {\n",
       "  codecell.CodeCell.options_default.highlight_modes[\n",
       "      'magic_text/x-csrc'] = {'reg':[/^%%microblaze/]};\n",
       "  Jupyter.notebook.events.one('kernel_ready.Kernel', function(){\n",
       "      Jupyter.notebook.get_cells().map(function(cell){\n",
       "          if (cell.cell_type == 'code'){ cell.auto_highlight(); } }) ;\n",
       "  });\n",
       "});\n",
       "} catch (e) {};\n"
      ]
     },
     "metadata": {},
     "output_type": "display_data"
    }
   ],
   "source": [
    "from pynq import Overlay\n",
    "from pynq import MMIO\n",
    "import time\n",
    "\n",
    "# Load the overlay (bitstream)\n",
    "ol = Overlay(\"spi.bit\")"
   ]
  },
  {
   "cell_type": "code",
   "execution_count": 2,
   "metadata": {},
   "outputs": [
    {
     "name": "stdout",
     "output_type": "stream",
     "text": [
      "dict_keys(['axi_quad_spi_0'])\n"
     ]
    }
   ],
   "source": [
    "print(ol.ip_dict.keys())"
   ]
  },
  {
   "cell_type": "code",
   "execution_count": null,
   "metadata": {},
   "outputs": [],
   "source": []
  },
  {
   "cell_type": "code",
   "execution_count": 3,
   "metadata": {},
   "outputs": [
    {
     "name": "stdout",
     "output_type": "stream",
     "text": [
      "1105199104\n"
     ]
    }
   ],
   "source": [
    "# Access the IP dictionary to find the address of the axi_quad_spi_0\n",
    "spi_ip = ol.ip_dict['axi_quad_spi_0']\n",
    "spi_base_address = spi_ip['phys_addr']\n",
    "spi_address_range = spi_ip['addr_range']\n",
    "\n",
    "print(spi_base_address)"
   ]
  },
  {
   "cell_type": "code",
   "execution_count": 4,
   "metadata": {},
   "outputs": [],
   "source": [
    "# Set up MMIO for AXI Quad SPI\n",
    "spi_mmio = MMIO(spi_base_address, spi_address_range)\n",
    "\n",
    "spi_mmio?"
   ]
  },
  {
   "cell_type": "code",
   "execution_count": 5,
   "metadata": {},
   "outputs": [],
   "source": [
    "# SPI register offsets (these depend on the AXI Quad SPI IP configuration)\n",
    "SPI_CTRL_REG = 0x00  # Control register\n",
    "SPI_STATUS_REG = 0x04  # Status register\n",
    "SPI_TXD_REG = 0x08  # Transmit data register\n",
    "SPI_RXD_REG = 0x0C  # Receive data register"
   ]
  },
  {
   "cell_type": "code",
   "execution_count": 6,
   "metadata": {},
   "outputs": [],
   "source": [
    "# SPI control parameters\n",
    "SPI_MODE = 0b00  # SPI Mode 0 (CPOL = 0, CPHA = 0)\n",
    "MAX_SPEED_HZ = 1000000  # 1 MHz (Adjust based on your requirements)"
   ]
  },
  {
   "cell_type": "code",
   "execution_count": 7,
   "metadata": {},
   "outputs": [],
   "source": [
    "# Function to transfer data via SPI\n",
    "def spi_transfer(ctrl_byte):\n",
    "    \"\"\"Write the control byte and receive the response byte via SPI.\"\"\"\n",
    "    \n",
    "    # Wait for the SPI to be ready (TXFIFO Empty)\n",
    "    while not (spi_mmio.read(SPI_STATUS_REG) & 0x02):\n",
    "        pass\n",
    "\n",
    "    # Write the control byte to the TXD register\n",
    "    spi_mmio.write(SPI_TXD_REG, ctrl_byte)\n",
    "\n",
    "    # Wait for the response to be available (RXFIFO Not Empty)\n",
    "    while not (spi_mmio.read(SPI_STATUS_REG) & 0x01):\n",
    "        pass\n",
    "\n",
    "    # Read the received byte from the RXD register\n",
    "    received_byte = spi_mmio.read(SPI_RXD_REG)\n",
    "    \n",
    "    return received_byte"
   ]
  },
  {
   "cell_type": "code",
   "execution_count": 8,
   "metadata": {},
   "outputs": [],
   "source": [
    "# Function to read ADC data from Pmod AD1\n",
    "def read_adc_data(channel):\n",
    "    \"\"\"Read 12-bit ADC data from the specified channel.\"\"\"\n",
    "    \n",
    "    # Control byte to select channel (Channel 0 or 1)\n",
    "    if channel == 0:\n",
    "        ctrl_byte = 0b11010000  # Channel 0\n",
    "    else:\n",
    "        ctrl_byte = 0b11110000  # Channel 1\n",
    "\n",
    "    # Send control byte and dummy bytes to read the ADC value\n",
    "    spi_transfer(ctrl_byte)  # Send control byte\n",
    "    byte_1 = spi_transfer(0x00)  # Read first byte\n",
    "    byte_2 = spi_transfer(0x00)  # Read second byte\n",
    "\n",
    "    # Combine the two bytes into a 12-bit ADC value\n",
    "    adc_value = ((byte_1 & 0x0F) << 8) | byte_2\n",
    "\n",
    "    return adc_value"
   ]
  },
  {
   "cell_type": "code",
   "execution_count": null,
   "metadata": {},
   "outputs": [],
   "source": [
    "# Example of reading ADC values from both channels of Pmod AD1\n",
    "\n",
    "channel_0_value = read_adc_data(1)\n",
    " "
   ]
  },
  {
   "cell_type": "code",
   "execution_count": null,
   "metadata": {},
   "outputs": [],
   "source": [
    "\n",
    "print(channel_0_value)\n",
    " "
   ]
  },
  {
   "cell_type": "code",
   "execution_count": null,
   "metadata": {},
   "outputs": [],
   "source": []
  }
 ],
 "metadata": {
  "kernelspec": {
   "display_name": "Python 3",
   "language": "python",
   "name": "python3"
  },
  "language_info": {
   "codemirror_mode": {
    "name": "ipython",
    "version": 3
   },
   "file_extension": ".py",
   "mimetype": "text/x-python",
   "name": "python",
   "nbconvert_exporter": "python",
   "pygments_lexer": "ipython3",
   "version": "3.6.5"
  }
 },
 "nbformat": 4,
 "nbformat_minor": 2
}
