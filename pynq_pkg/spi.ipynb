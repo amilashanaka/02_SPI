{
 "cells": [
  {
   "cell_type": "code",
   "execution_count": null,
   "metadata": {},
   "outputs": [],
   "source": [
    "# Import necessary modules\n",
    "from pynq import Overlay\n",
    "from pynq.lib.pmod import Pmod_SPI\n",
    "\n",
    "# Load the bitstream (Make sure the bitstream contains the required SPI IP)\n",
    "overlay = Overlay(\"spi.bit\")\n",
    "\n",
    "# Define the Pmod SPI (Replace with the actual Pmod connector used)\n",
    "spi = Pmod_SPI(overlay.PMODA)\n",
    "\n",
    "# SPI parameters for Pmod AD1 (ADC)\n",
    "spi.max_speed_hz = 1000000  # Max frequency supported by Pmod AD1 is 1 MHz\n",
    "spi.mode = 0b00  # SPI Mode 0 (CPOL = 0, CPHA = 0)\n",
    "\n",
    "def read_adc_data(spi, channel):\n",
    "    \"\"\"Function to read data from a specific ADC channel (0 or 1)\"\"\"\n",
    "    # Construct the control byte (single-ended mode)\n",
    "    ctrl_byte = 0b11010000 if channel == 0 else 0b11110000\n",
    "\n",
    "    # Send control byte and read 2 bytes of data from the ADC\n",
    "    resp = spi.transfer([ctrl_byte, 0x00, 0x00])\n",
    "    \n",
    "    # Combine the response bytes into a 12-bit value\n",
    "    adc_value = ((resp[1] & 0x0F) << 8) | resp[2]\n",
    "    \n",
    "    return adc_value\n",
    "\n",
    "# Example of reading from both channels of Pmod AD1\n",
    "channel_0_data = read_adc_data(spi, 0)\n",
    "channel_1_data = read_adc_data(spi, 1)\n",
    "\n",
    "print(f\"Channel 0 Data: {channel_0_data}\")\n",
    "print(f\"Channel 1 Data: {channel_1_data}\")\n",
    "\n",
    "# Don't forget to release the SPI after use\n",
    "spi.close()\n"
   ]
  }
 ],
 "metadata": {
  "language_info": {
   "name": "python"
  }
 },
 "nbformat": 4,
 "nbformat_minor": 2
}
